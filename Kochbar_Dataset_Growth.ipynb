{
 "cells": [
  {
   "cell_type": "markdown",
   "metadata": {},
   "source": [
    "# Growth of the Kochbar Dataset\n",
    "\n",
    "The kochbar dataset has shown an irregular growth in its recipe count. This will be investigated in the following script."
   ]
  },
  {
   "cell_type": "code",
   "execution_count": 1,
   "metadata": {},
   "outputs": [
    {
     "name": "stdout",
     "output_type": "stream",
     "text": [
      "<class 'pandas.core.frame.DataFrame'>\n",
      "Int64Index: 325828 entries, 0 to 330715\n",
      "Data columns (total 10 columns):\n",
      "clicks            325828 non-null int64\n",
      "comment_number    325828 non-null int64\n",
      "date              325828 non-null datetime64[ns]\n",
      "day               325828 non-null object\n",
      "favorites         325828 non-null int64\n",
      "month             325828 non-null object\n",
      "name              325828 non-null object\n",
      "number_votes      325828 non-null int64\n",
      "user              325828 non-null object\n",
      "year              325828 non-null object\n",
      "dtypes: datetime64[ns](1), int64(4), object(5)\n",
      "memory usage: 27.3+ MB\n"
     ]
    }
   ],
   "source": [
    "import json\n",
    "import pandas as pd\n",
    "\n",
    "with open('data/kochbar_10.json') as data_file:    \n",
    "    kochbar10 = json.load(data_file)\n",
    "    \n",
    "date = []\n",
    "for i, r in enumerate(kochbar10):\n",
    "    date = kochbar10[i]['date'].split('.')\n",
    "    kochbar10[i]['year'] = date[2]\n",
    "    kochbar10[i]['month'] = date[1]\n",
    "    kochbar10[i]['day'] = date[0]\n",
    "    \n",
    "kochdf = pd.DataFrame(kochbar10)\n",
    "kochdf['avg_rating'] = pd.to_numeric(kochdf['avg_rating'].str.replace(',','.'))\n",
    "kochdf['clicks'] = pd.to_numeric(kochdf['clicks'])\n",
    "kochdf['comment_number'] = pd.to_numeric(kochdf['comment_number'])\n",
    "kochdf['favorites'] = pd.to_numeric(kochdf['favorites'])\n",
    "kochdf['number_votes'] = pd.to_numeric(kochdf['number_votes'])\n",
    "kochdf['time_mins'] = pd.to_numeric(kochdf['time_mins'])\n",
    "kochdf['date'] = pd.to_datetime(kochdf['date'], format=\"%d.%m.%Y\")\n",
    "kochdf = kochdf.drop(['avg_rating', 'calories', 'difficulty', 'ingredients', \n",
    "                      'preparation', 'price', 'subtitle', 'time_hrs', \n",
    "                      'time_mins'], axis=1).dropna()\n",
    "kochdf.info()"
   ]
  },
  {
   "cell_type": "markdown",
   "metadata": {},
   "source": [
    "This initial DataFrame holds all recipes that will be used in the following analysis. Thus, all recipes that were published after the October dataset's last (maximum) date will be filtered.\n",
    "For these preprocessing steps, we can create one function that can easily be replicated for each dataset.\n",
    "\n",
    "When joining the newer datasets with the old one, we need a unique index to find the correct data points to join.\n",
    "For this purpose, the combination of the attributes name and user will be used with the assumption that one user would not publish two recipes with exactly the same name."
   ]
  },
  {
   "cell_type": "code",
   "execution_count": 2,
   "metadata": {},
   "outputs": [],
   "source": [
    "max_date = kochdf['date'].max()  # 2017-10-13\n",
    "columns = ['avg_rating', 'calories', \n",
    "           'difficulty', 'ingredients', 'preparation', \n",
    "           'price', 'subtitle', 'time_hrs', 'time_mins']\n",
    "numerics = ['clicks', 'comment_number', 'favorites', 'number_votes']\n",
    "\n",
    "def preprocess(data):\n",
    "    df = pd.DataFrame(data)\n",
    "    df['date'] = pd.to_datetime(df['date'], format=\"%d.%m.%Y\")\n",
    "    #df = df.loc[df['date'] <= max_date]\n",
    "    for c in numerics:\n",
    "        df[c] = pd.to_numeric(df[c])\n",
    "    df = df.drop(columns, axis=1).dropna()\n",
    "    return df"
   ]
  },
  {
   "cell_type": "code",
   "execution_count": 3,
   "metadata": {
    "scrolled": true
   },
   "outputs": [
    {
     "name": "stdout",
     "output_type": "stream",
     "text": [
      "<class 'pandas.core.frame.DataFrame'>\n",
      "Int64Index: 325668 entries, 0 to 330567\n",
      "Data columns (total 7 columns):\n",
      "clicks            325668 non-null int64\n",
      "comment_number    325668 non-null int64\n",
      "date              325668 non-null datetime64[ns]\n",
      "favorites         325668 non-null int64\n",
      "name              325668 non-null object\n",
      "number_votes      325668 non-null int64\n",
      "user              325668 non-null object\n",
      "dtypes: datetime64[ns](1), int64(4), object(2)\n",
      "memory usage: 19.9+ MB\n"
     ]
    }
   ],
   "source": [
    "with open('data/kochbar_11.json') as data_file:    \n",
    "    kochbar11 = json.load(data_file)\n",
    "koch11df = preprocess(kochbar11)\n",
    "koch11df.info()"
   ]
  },
  {
   "cell_type": "code",
   "execution_count": 4,
   "metadata": {},
   "outputs": [
    {
     "name": "stdout",
     "output_type": "stream",
     "text": [
      "<class 'pandas.core.frame.DataFrame'>\n",
      "Int64Index: 419327 entries, 0 to 425635\n",
      "Data columns (total 7 columns):\n",
      "clicks            419327 non-null int64\n",
      "comment_number    419327 non-null int64\n",
      "date              419327 non-null datetime64[ns]\n",
      "favorites         419327 non-null int64\n",
      "name              419327 non-null object\n",
      "number_votes      419327 non-null int64\n",
      "user              419327 non-null object\n",
      "dtypes: datetime64[ns](1), int64(4), object(2)\n",
      "memory usage: 25.6+ MB\n"
     ]
    }
   ],
   "source": [
    "with open('data/kochbar_12.json') as data_file:    \n",
    "    kochbar12 = json.load(data_file)\n",
    "\n",
    "koch12df = preprocess(kochbar12)\n",
    "koch12df.info()"
   ]
  },
  {
   "cell_type": "code",
   "execution_count": 5,
   "metadata": {},
   "outputs": [
    {
     "name": "stdout",
     "output_type": "stream",
     "text": [
      "<class 'pandas.core.frame.DataFrame'>\n",
      "Int64Index: 415074 entries, 0 to 421351\n",
      "Data columns (total 7 columns):\n",
      "clicks            415074 non-null int64\n",
      "comment_number    415074 non-null int64\n",
      "date              415074 non-null datetime64[ns]\n",
      "favorites         415074 non-null int64\n",
      "name              415074 non-null object\n",
      "number_votes      415074 non-null int64\n",
      "user              415074 non-null object\n",
      "dtypes: datetime64[ns](1), int64(4), object(2)\n",
      "memory usage: 25.3+ MB\n"
     ]
    }
   ],
   "source": [
    "with open('data/kochbar_01.json') as data_file:    \n",
    "    kochbar01 = json.load(data_file)\n",
    "    \n",
    "koch01df = preprocess(kochbar01)\n",
    "koch01df.info()"
   ]
  },
  {
   "cell_type": "code",
   "execution_count": 6,
   "metadata": {},
   "outputs": [
    {
     "name": "stdout",
     "output_type": "stream",
     "text": [
      "<class 'pandas.core.frame.DataFrame'>\n",
      "Int64Index: 414311 entries, 0 to 420581\n",
      "Data columns (total 7 columns):\n",
      "clicks            414311 non-null int64\n",
      "comment_number    414311 non-null int64\n",
      "date              414311 non-null datetime64[ns]\n",
      "favorites         414311 non-null int64\n",
      "name              414311 non-null object\n",
      "number_votes      414311 non-null int64\n",
      "user              414311 non-null object\n",
      "dtypes: datetime64[ns](1), int64(4), object(2)\n",
      "memory usage: 25.3+ MB\n"
     ]
    }
   ],
   "source": [
    "with open('data/kochbar_02.json') as data_file:    \n",
    "    kochbar02 = json.load(data_file)\n",
    "    \n",
    "koch02df = preprocess(kochbar02)\n",
    "koch02df.info()"
   ]
  },
  {
   "cell_type": "code",
   "execution_count": 7,
   "metadata": {},
   "outputs": [
    {
     "name": "stdout",
     "output_type": "stream",
     "text": [
      "<class 'pandas.core.frame.DataFrame'>\n",
      "Int64Index: 407539 entries, 0 to 413768\n",
      "Data columns (total 7 columns):\n",
      "clicks            407539 non-null int64\n",
      "comment_number    407539 non-null int64\n",
      "date              407539 non-null datetime64[ns]\n",
      "favorites         407539 non-null int64\n",
      "name              407539 non-null object\n",
      "number_votes      407539 non-null int64\n",
      "user              407539 non-null object\n",
      "dtypes: datetime64[ns](1), int64(4), object(2)\n",
      "memory usage: 24.9+ MB\n"
     ]
    }
   ],
   "source": [
    "with open('data/kochbar_03.json') as data_file:    \n",
    "    kochbar03 = json.load(data_file)\n",
    "    \n",
    "koch03df = preprocess(kochbar03)\n",
    "koch03df.info()"
   ]
  },
  {
   "cell_type": "code",
   "execution_count": 8,
   "metadata": {},
   "outputs": [
    {
     "name": "stdout",
     "output_type": "stream",
     "text": [
      "16\n",
      "14\n",
      "14\n",
      "14\n",
      "13\n",
      "8\n"
     ]
    }
   ],
   "source": [
    "print(len(kochdf.loc[kochdf['date'] == max_date]))\n",
    "print(len(koch11df.loc[koch11df['date'] == max_date]))\n",
    "print(len(koch12df.loc[koch12df['date'] == max_date]))\n",
    "print(len(koch01df.loc[koch01df['date'] == max_date]))\n",
    "print(len(koch02df.loc[koch02df['date'] == max_date]))\n",
    "print(len(koch03df.loc[koch03df['date'] == max_date]))"
   ]
  },
  {
   "cell_type": "markdown",
   "metadata": {},
   "source": [
    "Each new datasets has less recipes published on the same date: the latest date contained in the October dataset."
   ]
  },
  {
   "cell_type": "code",
   "execution_count": 9,
   "metadata": {},
   "outputs": [],
   "source": [
    "max_date11 = koch11df['date'].max()\n",
    "max_date12 = koch12df['date'].max()\n",
    "max_date01 = koch01df['date'].max()\n",
    "max_date02 = koch02df['date'].max()\n",
    "max_date03 = koch03df['date'].max()"
   ]
  },
  {
   "cell_type": "code",
   "execution_count": 10,
   "metadata": {},
   "outputs": [
    {
     "name": "stdout",
     "output_type": "stream",
     "text": [
      "16\n",
      "307\n",
      "399\n",
      "393\n",
      "349\n",
      "362\n"
     ]
    }
   ],
   "source": [
    "# Each month's new recipes\n",
    "print(len(kochdf.loc[kochdf['date'] >= max_date]))\n",
    "print(len(koch11df.loc[koch11df['date'] >= max_date]))\n",
    "print(len(koch12df.loc[koch12df['date'] >= max_date11]))\n",
    "print(len(koch01df.loc[koch01df['date'] >= max_date12]))\n",
    "print(len(koch02df.loc[koch02df['date'] >= max_date01]))\n",
    "print(len(koch03df.loc[koch03df['date'] >= max_date02]))"
   ]
  },
  {
   "cell_type": "markdown",
   "metadata": {},
   "source": [
    "The kochbar dataset has grown by 300-400 recipes per month since October, which sums up to approx. 1800-2000 recipes (counting the recipes with newer publication dates).\n",
    "However, the total recipe count of kochbar has grown by more than 82,000.\n",
    "This means that more than 80,000 recipes with older dates have been added to the datasets as well."
   ]
  },
  {
   "cell_type": "code",
   "execution_count": 14,
   "metadata": {},
   "outputs": [
    {
     "data": {
      "image/png": "[encoded data removed]",
      "text/plain": [
       "<Figure size 1440x720 with 1 Axes>"
      ]
     },
     "metadata": {},
     "output_type": "display_data"
    }
   ],
   "source": [
    "import matplotlib.pyplot as plt\n",
    "%matplotlib inline\n",
    "\n",
    "kochdf['date'].hist(bins=127, alpha=0.3, figsize=(20,10), label=\"October\")\n",
    "koch11df['date'].hist(bins=128, alpha=0.3, figsize=(20,10), label=\"November\")\n",
    "koch12df['date'].hist(bins=129, alpha=0.3, figsize=(20,10), label=\"December\")\n",
    "\n",
    "plt.legend()\n",
    "plt.show()"
   ]
  },
  {
   "cell_type": "code",
   "execution_count": 16,
   "metadata": {},
   "outputs": [
    {
     "data": {
      "image/png": "[encoded data removed]",
      "text/plain": [
       "<Figure size 1440x720 with 1 Axes>"
      ]
     },
     "metadata": {},
     "output_type": "display_data"
    }
   ],
   "source": [
    "import matplotlib.pyplot as plt\n",
    "%matplotlib inline\n",
    "\n",
    "koch12df['date'].hist(bins=129, alpha=0.3, figsize=(20,10), label=\"December\")\n",
    "koch01df['date'].hist(bins=130, alpha=0.3, figsize=(20,10), label=\"January\")\n",
    "koch02df['date'].hist(bins=131, alpha=0.3, figsize=(20,10), label=\"February\")\n",
    "koch03df['date'].hist(bins=132, alpha=0.3, figsize=(20,10), label=\"March\")\n",
    "\n",
    "plt.legend()\n",
    "plt.show()"
   ]
  },
  {
   "cell_type": "markdown",
   "metadata": {},
   "source": [
    "All website snapshots have changing amounts of recipes for older months.\n",
    "However, the largest difference is the increase in December (2017), where up to approximately 4,000 recipes were added with a publication date in February 2009.\n",
    "This proves the inconsistent database management on kochbar, as the same scraper has been used for all six snapshots."
   ]
  }
 ],
 "metadata": {
  "kernelspec": {
   "display_name": "Python 3",
   "language": "python",
   "name": "python3"
  },
  "language_info": {
   "codemirror_mode": {
    "name": "ipython",
    "version": 3
   },
   "file_extension": ".py",
   "mimetype": "text/x-python",
   "name": "python",
   "nbconvert_exporter": "python",
   "pygments_lexer": "ipython3",
   "version": "3.6.4"
  }
 },
 "nbformat": 4,
 "nbformat_minor": 2
}
