{
 "cells": [
  {
   "cell_type": "markdown",
   "metadata": {},
   "source": [
    "# Dataset Generation for Trend Analysis\n",
    "\n",
    "This Notebook contains the steps to create a dataset that holds the initial chefkoch dataset from October 2017 and data changes that have occured over the following 6 months until March 2018. For this analysis, we will neglect the recipes that have been published later than October 2017 for simplifying the data preparation.\n",
    "\n",
    "To create such a dataset, we first need to load all six data files and add the relevant columns to a single dataset. During this process, we will only leave the columns in the dataset, which are actually changing over time."
   ]
  },
  {
   "cell_type": "code",
   "execution_count": 1,
   "metadata": {},
   "outputs": [],
   "source": [
    "import json\n",
    "import pandas as pd\n",
    "\n",
    "with open('data/chefkoch_10.json') as data_file:    \n",
    "    chef10 = json.load(data_file)"
   ]
  },
  {
   "cell_type": "code",
   "execution_count": 2,
   "metadata": {},
   "outputs": [
    {
     "data": {
      "text/plain": [
       "96493"
      ]
     },
     "execution_count": 2,
     "metadata": {},
     "output_type": "execute_result"
    }
   ],
   "source": [
    "def clean_dataset(data):\n",
    "    date = []\n",
    "    errors = []\n",
    "    for i, r in enumerate(data):\n",
    "        date = data[i]['date'].split('.')\n",
    "        data[i]['printed'] = data[i]['printed'].split('(')[0].replace('.','')\n",
    "        data[i]['saved'] = data[i]['saved'].split('(')[0].replace('.','')\n",
    "        data[i]['shared'] = data[i]['shared'].split('(')[0].replace('.','')\n",
    "\n",
    "        # For all complete recipes, produce date features\n",
    "        try:\n",
    "            data[i]['day'] = int(date[0])\n",
    "            data[i]['month'] = int(date[1])\n",
    "            if int(date[2]) < 20:\n",
    "                data[i]['year'] = 2000+int(date[2])\n",
    "                data[i]['date'] = date[0]+\".\"+date[1]+\".\"+str(data[i]['year'])\n",
    "            else:\n",
    "                data[i]['year'] = int(date[2])\n",
    "\n",
    "        # For all others, set dirty values to None\n",
    "        except ValueError:\n",
    "            errors.append(i)\n",
    "            data[i]['date'] = None\n",
    "            data[i]['printed'] = 0\n",
    "            data[i]['saved'] = 0\n",
    "            data[i]['shared'] = 0\n",
    "            data[i]['number_ratings'] = 0\n",
    "\n",
    "    return (len(errors))\n",
    "    \n",
    "clean_dataset(chef10)"
   ]
  },
  {
   "cell_type": "code",
   "execution_count": 3,
   "metadata": {},
   "outputs": [
    {
     "data": {
      "text/plain": [
       "313751"
      ]
     },
     "execution_count": 3,
     "metadata": {},
     "output_type": "execute_result"
    }
   ],
   "source": [
    "# Original amount of recipes:\n",
    "len(chef10)"
   ]
  },
  {
   "cell_type": "code",
   "execution_count": 28,
   "metadata": {},
   "outputs": [
    {
     "name": "stdout",
     "output_type": "stream",
     "text": [
      "<class 'pandas.core.frame.DataFrame'>\n",
      "Int64Index: 217258 entries, 0 to 313750\n",
      "Data columns (total 21 columns):\n",
      "avg_rating        217258 non-null float64\n",
      "calories          217258 non-null object\n",
      "date              217258 non-null datetime64[ns]\n",
      "day               217258 non-null float64\n",
      "difficulty        217258 non-null object\n",
      "ingredients       217258 non-null object\n",
      "month             217258 non-null float64\n",
      "name              217258 non-null object\n",
      "number_ratings    217258 non-null int64\n",
      "preparation       217258 non-null object\n",
      "printed           217258 non-null int64\n",
      "saved             217258 non-null int64\n",
      "shared            217258 non-null int64\n",
      "subtitle          113218 non-null object\n",
      "time_cook         217258 non-null object\n",
      "time_rest         217258 non-null object\n",
      "time_work         217258 non-null object\n",
      "user              217258 non-null object\n",
      "user_activity     217258 non-null object\n",
      "user_date         217258 non-null object\n",
      "year              217258 non-null float64\n",
      "dtypes: datetime64[ns](1), float64(4), int64(4), object(12)\n",
      "memory usage: 36.5+ MB\n"
     ]
    }
   ],
   "source": [
    "chefdf = pd.DataFrame(chef10)\n",
    "chefdf = chefdf.dropna(subset=['date'])\n",
    "chefdf['date'] = pd.to_datetime(chefdf['date'], format=\"%d.%m.%Y\")\n",
    "chefdf['avg_rating'] = pd.to_numeric(chefdf['avg_rating'].str.replace('Ø','').str.replace(',','.'))\n",
    "\n",
    "numerics = ['avg_rating','printed', 'saved', 'shared', 'number_ratings']\n",
    "for c in numerics:  # convert numeric attributes\n",
    "        chefdf[c] = pd.to_numeric(chefdf[c])\n",
    "\n",
    "chefdf.info()"
   ]
  },
  {
   "cell_type": "code",
   "execution_count": 29,
   "metadata": {},
   "outputs": [
    {
     "name": "stdout",
     "output_type": "stream",
     "text": [
      "<class 'pandas.core.frame.DataFrame'>\n",
      "Int64Index: 217258 entries, 0 to 313750\n",
      "Data columns (total 11 columns):\n",
      "avg_rating        217258 non-null float64\n",
      "date              217258 non-null datetime64[ns]\n",
      "day               217258 non-null float64\n",
      "month             217258 non-null float64\n",
      "name              217258 non-null object\n",
      "number_ratings    217258 non-null int64\n",
      "printed           217258 non-null int64\n",
      "saved             217258 non-null int64\n",
      "shared            217258 non-null int64\n",
      "user              217258 non-null object\n",
      "year              217258 non-null float64\n",
      "dtypes: datetime64[ns](1), float64(4), int64(4), object(2)\n",
      "memory usage: 19.9+ MB\n"
     ]
    }
   ],
   "source": [
    "# Drop dirty attributes that do not provide any value\n",
    "try:\n",
    "    chefdf = chefdf.drop(['calories', 'difficulty', 'ingredients', \n",
    "           'preparation', 'subtitle', 'time_cook', 'time_rest', \n",
    "           'time_work', 'user_activity', 'user_date'], axis=1)\n",
    "except ValueError:  # if performed already\n",
    "    pass\n",
    "\n",
    "chefdf.info()"
   ]
  },
  {
   "cell_type": "markdown",
   "metadata": {},
   "source": [
    "This initial DataFrame holds all recipes that have not been affected by the scraper's implementation error.\n",
    "Most of the dirty attributes have been dropped as they have been proven to be useless regarding their information value.\n",
    "For these preprocessing steps, we can create one function that can easily be replicated for each dataset.\n",
    "\n",
    "When joining the newer datasets with the old one, we need a unique index to find the correct data points to join.\n",
    "For this purpose, the combination of the attributes name and user will be used with the assumption that one user would not publish two recipes with exactly the same name."
   ]
  },
  {
   "cell_type": "code",
   "execution_count": 30,
   "metadata": {},
   "outputs": [
    {
     "data": {
      "text/plain": [
       "Timestamp('2017-09-28 00:00:00')"
      ]
     },
     "execution_count": 30,
     "metadata": {},
     "output_type": "execute_result"
    }
   ],
   "source": [
    "chefdf['date'].max()"
   ]
  },
  {
   "cell_type": "code",
   "execution_count": 31,
   "metadata": {},
   "outputs": [],
   "source": [
    "max_date = chefdf['date'].max()\n",
    "columns = ['calories', 'date', 'difficulty', 'ingredients', \n",
    "           'preparation', 'subtitle', 'time_cook', 'time_rest', \n",
    "           'time_work', 'user_activity', 'user_date']\n",
    "numerics = ['avg_rating','printed', 'saved', 'shared', 'number_ratings']\n",
    "\n",
    "def convert(data):\n",
    "    df = pd.DataFrame(data)  # convert to DataFrame\n",
    "    df = df.dropna(subset=['date'])  # Remove incomplete recipes\n",
    "    df['date'] = pd.to_datetime(df['date'], format=\"%d.%m.%Y\")  # convert date\n",
    "    df['avg_rating'] = pd.to_numeric(df['avg_rating'].str.replace('Ø','').str.replace(',','.'))  # convert rating\n",
    "    df = df.loc[df['date'] <= max_date]  # filter newer recipes\n",
    "    for c in numerics:  # convert numeric attributes\n",
    "        df[c] = pd.to_numeric(df[c])\n",
    "    df = df.drop(columns, axis=1)  # drop unnecessary columns\n",
    "    return df"
   ]
  },
  {
   "cell_type": "code",
   "execution_count": 32,
   "metadata": {},
   "outputs": [],
   "source": [
    "def clean_new(data):\n",
    "    date = []\n",
    "    errors = []\n",
    "    for i, r in enumerate(data):\n",
    "        date = data[i]['date'].split('.')\n",
    "        data[i]['printed'] = data[i]['printed'].split('(')[0].replace('.','')\n",
    "        data[i]['saved'] = data[i]['saved'].split('(')[0].replace('.','')\n",
    "        data[i]['shared'] = data[i]['shared'].split('(')[0].replace('.','')\n",
    "\n",
    "        # For all complete recipes convert printed to numeric\n",
    "        try:\n",
    "            data[i]['printed'] = int(data[i]['printed'])\n",
    "            if int(date[2]) < 20:\n",
    "                data[i]['date'] = date[0]+\".\"+date[1]+\".\"+str(2000+int(date[2]))\n",
    "            else:\n",
    "                pass \n",
    "\n",
    "        # If not possible, data is dirty\n",
    "        except ValueError:\n",
    "            errors.append(i)\n",
    "            data[i]['date'] = None\n",
    "            data[i]['printed'] = None\n",
    "            data[i]['saved'] = None\n",
    "            data[i]['shared'] = None\n",
    "            data[i]['number_ratings'] = None\n",
    "\n",
    "    return (len(errors))"
   ]
  },
  {
   "cell_type": "code",
   "execution_count": 33,
   "metadata": {},
   "outputs": [
    {
     "name": "stdout",
     "output_type": "stream",
     "text": [
      "<class 'pandas.core.frame.DataFrame'>\n",
      "Int64Index: 218448 entries, 0 to 314892\n",
      "Data columns (total 7 columns):\n",
      "avg_rating        218448 non-null float64\n",
      "name              218448 non-null object\n",
      "number_ratings    218448 non-null int64\n",
      "printed           218448 non-null float64\n",
      "saved             218448 non-null int64\n",
      "shared            218448 non-null int64\n",
      "user              218448 non-null object\n",
      "dtypes: float64(2), int64(3), object(2)\n",
      "memory usage: 13.3+ MB\n"
     ]
    }
   ],
   "source": [
    "with open('data/chefkoch_11.json') as data_file:    \n",
    "    chef11 = json.load(data_file)\n",
    "clean_new(chef11)\n",
    "chef11df = convert(chef11)\n",
    "chef11df.info()"
   ]
  },
  {
   "cell_type": "code",
   "execution_count": 34,
   "metadata": {
    "scrolled": true
   },
   "outputs": [],
   "source": [
    "chefdf = pd.merge(chefdf, chef11df,  how='left', left_on=['name', 'user'], \n",
    "                  right_on = ['name', 'user'], suffixes=('','_11'))"
   ]
  },
  {
   "cell_type": "code",
   "execution_count": 35,
   "metadata": {},
   "outputs": [
    {
     "name": "stdout",
     "output_type": "stream",
     "text": [
      "<class 'pandas.core.frame.DataFrame'>\n",
      "Int64Index: 219344 entries, 0 to 315916\n",
      "Data columns (total 7 columns):\n",
      "avg_rating        219344 non-null float64\n",
      "name              219344 non-null object\n",
      "number_ratings    219344 non-null int64\n",
      "printed           219344 non-null float64\n",
      "saved             219344 non-null int64\n",
      "shared            219344 non-null int64\n",
      "user              219344 non-null object\n",
      "dtypes: float64(2), int64(3), object(2)\n",
      "memory usage: 13.4+ MB\n"
     ]
    }
   ],
   "source": [
    "with open('data/chefkoch_12.json') as data_file:    \n",
    "    chef12 = json.load(data_file)\n",
    "clean_new(chef12)\n",
    "chef12df = convert(chef12)\n",
    "chef12df.info()"
   ]
  },
  {
   "cell_type": "code",
   "execution_count": 36,
   "metadata": {},
   "outputs": [],
   "source": [
    "chefdf = pd.merge(chefdf, chef12df,  how='left', left_on=['name','user'], \n",
    "                  right_on = ['name','user'], suffixes=('','_12'))"
   ]
  },
  {
   "cell_type": "code",
   "execution_count": 37,
   "metadata": {},
   "outputs": [
    {
     "name": "stdout",
     "output_type": "stream",
     "text": [
      "<class 'pandas.core.frame.DataFrame'>\n",
      "Int64Index: 220259 entries, 0 to 316871\n",
      "Data columns (total 7 columns):\n",
      "avg_rating        220259 non-null float64\n",
      "name              220259 non-null object\n",
      "number_ratings    220259 non-null int64\n",
      "printed           220259 non-null float64\n",
      "saved             220259 non-null int64\n",
      "shared            220259 non-null int64\n",
      "user              220259 non-null object\n",
      "dtypes: float64(2), int64(3), object(2)\n",
      "memory usage: 13.4+ MB\n"
     ]
    }
   ],
   "source": [
    "with open('data/chefkoch_01.json') as data_file:    \n",
    "    chef01 = json.load(data_file)\n",
    "clean_new(chef01)\n",
    "chef01df = convert(chef01)\n",
    "chef01df.info()"
   ]
  },
  {
   "cell_type": "code",
   "execution_count": 38,
   "metadata": {},
   "outputs": [],
   "source": [
    "chefdf = pd.merge(chefdf, chef01df,  how='left', left_on=['name','user'], \n",
    "                  right_on = ['name','user'], suffixes=('','_01'))"
   ]
  },
  {
   "cell_type": "code",
   "execution_count": 39,
   "metadata": {},
   "outputs": [
    {
     "name": "stdout",
     "output_type": "stream",
     "text": [
      "<class 'pandas.core.frame.DataFrame'>\n",
      "Int64Index: 221080 entries, 0 to 318239\n",
      "Data columns (total 7 columns):\n",
      "avg_rating        221080 non-null float64\n",
      "name              221080 non-null object\n",
      "number_ratings    221080 non-null int64\n",
      "printed           221080 non-null float64\n",
      "saved             221080 non-null int64\n",
      "shared            221080 non-null int64\n",
      "user              221080 non-null object\n",
      "dtypes: float64(2), int64(3), object(2)\n",
      "memory usage: 13.5+ MB\n"
     ]
    }
   ],
   "source": [
    "with open('data/chefkoch_02.json') as data_file:    \n",
    "    chef02 = json.load(data_file)\n",
    "clean_new(chef02)\n",
    "chef02df = convert(chef02)\n",
    "chef02df.info()"
   ]
  },
  {
   "cell_type": "code",
   "execution_count": 40,
   "metadata": {},
   "outputs": [],
   "source": [
    "chefdf = pd.merge(chefdf, chef02df,  how='left', left_on=['name','user'], \n",
    "                  right_on = ['name','user'], suffixes=('','_02'))"
   ]
  },
  {
   "cell_type": "code",
   "execution_count": 41,
   "metadata": {},
   "outputs": [
    {
     "name": "stdout",
     "output_type": "stream",
     "text": [
      "<class 'pandas.core.frame.DataFrame'>\n",
      "Int64Index: 221752 entries, 0 to 319577\n",
      "Data columns (total 7 columns):\n",
      "avg_rating        221752 non-null float64\n",
      "name              221752 non-null object\n",
      "number_ratings    221752 non-null int64\n",
      "printed           221752 non-null float64\n",
      "saved             221752 non-null int64\n",
      "shared            221752 non-null int64\n",
      "user              221752 non-null object\n",
      "dtypes: float64(2), int64(3), object(2)\n",
      "memory usage: 13.5+ MB\n"
     ]
    }
   ],
   "source": [
    "with open('data/chefkoch_03.json') as data_file:    \n",
    "    chef03 = json.load(data_file)\n",
    "clean_new(chef03)\n",
    "chef03df = convert(chef03)\n",
    "chef03df.info()"
   ]
  },
  {
   "cell_type": "code",
   "execution_count": 42,
   "metadata": {},
   "outputs": [],
   "source": [
    "chefdf = pd.merge(chefdf, chef03df,  how='left', left_on=['name','user'], \n",
    "                  right_on = ['name','user'], suffixes=('','_03'))"
   ]
  },
  {
   "cell_type": "code",
   "execution_count": 43,
   "metadata": {},
   "outputs": [
    {
     "name": "stdout",
     "output_type": "stream",
     "text": [
      "<class 'pandas.core.frame.DataFrame'>\n",
      "Int64Index: 486613 entries, 0 to 486612\n",
      "Data columns (total 36 columns):\n",
      "avg_rating           486613 non-null float64\n",
      "date                 486613 non-null datetime64[ns]\n",
      "day                  486613 non-null float64\n",
      "month                486613 non-null float64\n",
      "name                 486613 non-null object\n",
      "number_ratings       486613 non-null int64\n",
      "printed              486613 non-null int64\n",
      "saved                486613 non-null int64\n",
      "shared               486613 non-null int64\n",
      "user                 486613 non-null object\n",
      "year                 486613 non-null float64\n",
      "avg_rating_11        486462 non-null float64\n",
      "number_ratings_11    486462 non-null float64\n",
      "printed_11           486462 non-null float64\n",
      "saved_11             486462 non-null float64\n",
      "shared_11            486462 non-null float64\n",
      "avg_rating_12        486344 non-null float64\n",
      "number_ratings_12    486344 non-null float64\n",
      "printed_12           486344 non-null float64\n",
      "saved_12             486344 non-null float64\n",
      "shared_12            486344 non-null float64\n",
      "avg_rating_01        486273 non-null float64\n",
      "number_ratings_01    486273 non-null float64\n",
      "printed_01           486273 non-null float64\n",
      "saved_01             486273 non-null float64\n",
      "shared_01            486273 non-null float64\n",
      "avg_rating_02        486111 non-null float64\n",
      "number_ratings_02    486111 non-null float64\n",
      "printed_02           486111 non-null float64\n",
      "saved_02             486111 non-null float64\n",
      "shared_02            486111 non-null float64\n",
      "avg_rating_03        486014 non-null float64\n",
      "number_ratings_03    486014 non-null float64\n",
      "printed_03           486014 non-null float64\n",
      "saved_03             486014 non-null float64\n",
      "shared_03            486014 non-null float64\n",
      "dtypes: datetime64[ns](1), float64(29), int64(4), object(2)\n",
      "memory usage: 137.4+ MB\n"
     ]
    }
   ],
   "source": [
    "chefdf.info()"
   ]
  },
  {
   "cell_type": "code",
   "execution_count": 44,
   "metadata": {},
   "outputs": [
    {
     "name": "stdout",
     "output_type": "stream",
     "text": [
      "486613\n"
     ]
    }
   ],
   "source": [
    "print(len(chefdf[['name','user']]))"
   ]
  },
  {
   "cell_type": "markdown",
   "metadata": {},
   "source": [
    "## Duplicate entries\n",
    "\n",
    "As we can easily see, the DataFrame has increased in its size from 217,258 to 468,014.\n",
    "This is most probably due to small changes in the datasets over time, e.g. users changing their names or recipe titles at a later time. \n",
    "This means that the attributes chosen for joining the datasets (name and user) are not optimal, but unfortunately there is no other combination that would provide better results.\n",
    "These redundancies need to be found and removed to have a clean dataset."
   ]
  },
  {
   "cell_type": "code",
   "execution_count": 45,
   "metadata": {},
   "outputs": [
    {
     "data": {
      "text/plain": [
       "216585"
      ]
     },
     "execution_count": 45,
     "metadata": {},
     "output_type": "execute_result"
    }
   ],
   "source": [
    "chefdf = chefdf.drop_duplicates(subset=['name', 'user'])\n",
    "len(chefdf.name)"
   ]
  },
  {
   "cell_type": "code",
   "execution_count": 46,
   "metadata": {},
   "outputs": [],
   "source": [
    "# There is missing data again, so we drop them as well:\n",
    "chefdf = chefdf.dropna()"
   ]
  },
  {
   "cell_type": "code",
   "execution_count": 47,
   "metadata": {},
   "outputs": [
    {
     "data": {
      "text/plain": [
       "215977"
      ]
     },
     "execution_count": 47,
     "metadata": {},
     "output_type": "execute_result"
    }
   ],
   "source": [
    "# This has reduced the dataset by approx. a third:\n",
    "len(chefdf.name)"
   ]
  },
  {
   "cell_type": "code",
   "execution_count": 24,
   "metadata": {},
   "outputs": [],
   "source": [
    "# Export CSV\n",
    "chefdf.to_csv('exports/trend_data_chefkoch.csv')"
   ]
  },
  {
   "cell_type": "code",
   "execution_count": 51,
   "metadata": {},
   "outputs": [
    {
     "name": "stdout",
     "output_type": "stream",
     "text": [
      "\n",
      " avg_rating:\n",
      "3.48150465096\n",
      "3.48569551387\n",
      "3.48866416331\n",
      "3.49199211027\n",
      "3.49526861657\n",
      "3.49759108609\n",
      "\n",
      " number_ratings:\n",
      "2407254\n",
      "2437394.0\n",
      "2459617.0\n",
      "2483845.0\n",
      "2508646.0\n",
      "2526337.0\n",
      "\n",
      " printed:\n",
      "550408646\n",
      "557385286.0\n",
      "563838808.0\n",
      "571425561.0\n",
      "577030421.0\n",
      "581359847.0\n",
      "\n",
      " saved:\n",
      "76167205\n",
      "76705867.0\n",
      "77065700.0\n",
      "77442128.0\n",
      "77850507.0\n",
      "78161592.0\n",
      "\n",
      " shared:\n",
      "5501673\n",
      "5511549.0\n",
      "5512105.0\n",
      "5510087.0\n",
      "5513907.0\n",
      "5511075.0\n"
     ]
    }
   ],
   "source": [
    "# Average: avg_rating\n",
    "print(\"\\n avg_rating:\")\n",
    "print(chefdf['avg_rating'].mean())\n",
    "print(chefdf['avg_rating_11'].mean())\n",
    "print(chefdf['avg_rating_12'].mean())\n",
    "print(chefdf['avg_rating_01'].mean())\n",
    "print(chefdf['avg_rating_02'].mean())\n",
    "print(chefdf['avg_rating_03'].mean())\n",
    "\n",
    "# Aggregation: number_ratings\n",
    "print(\"\\n number_ratings:\")\n",
    "print(chefdf['number_ratings'].sum())\n",
    "print(chefdf['number_ratings_11'].sum())\n",
    "print(chefdf['number_ratings_12'].sum())\n",
    "print(chefdf['number_ratings_01'].sum())\n",
    "print(chefdf['number_ratings_02'].sum())\n",
    "print(chefdf['number_ratings_03'].sum())\n",
    "\n",
    "# Aggregation: printed\n",
    "print(\"\\n printed:\")\n",
    "print(chefdf['printed'].sum())\n",
    "print(chefdf['printed_11'].sum())\n",
    "print(chefdf['printed_12'].sum())\n",
    "print(chefdf['printed_01'].sum())\n",
    "print(chefdf['printed_02'].sum())\n",
    "print(chefdf['printed_03'].sum())\n",
    "\n",
    "# Aggregation: saved\n",
    "print(\"\\n saved:\")\n",
    "print(chefdf['saved'].sum())\n",
    "print(chefdf['saved_11'].sum())\n",
    "print(chefdf['saved_12'].sum())\n",
    "print(chefdf['saved_01'].sum())\n",
    "print(chefdf['saved_02'].sum())\n",
    "print(chefdf['saved_03'].sum())\n",
    "\n",
    "# Aggregation: shared\n",
    "print(\"\\n shared:\")\n",
    "print(chefdf['shared'].sum())\n",
    "print(chefdf['shared_11'].sum())\n",
    "print(chefdf['shared_12'].sum())\n",
    "print(chefdf['shared_01'].sum())\n",
    "print(chefdf['shared_02'].sum())\n",
    "print(chefdf['shared_03'].sum())"
   ]
  },
  {
   "cell_type": "markdown",
   "metadata": {},
   "source": [
    "Now we actually only have the recipes left that have been in each snapshot of our the data. By dropping the duplicates and recipes with missing values, we have reduced the dataset's size significantly, but created a consistent set that is suitable for trend analysis.\n",
    "\n",
    "### Calculating the differences\n",
    "\n",
    "In addition to the dataset above, which shows the numerical values for each timestep, we can also create a dataset that holds the deltas (i.e. the differences between each of the timesteps). The following abbreviations are used:\n",
    "\n",
    "- clicks = cl\n",
    "- comment_number = co\n",
    "- favorites = f\n",
    "- number_votes = v\n",
    "- delta(Okt-Nov) = d1\n",
    "- delta(Nov-Dec) = d2\n",
    "- delta(Dec-Jan) = d3\n",
    "- delta(Jan-Feb) = d4\n",
    "- delta(Feb-Mar) = d5"
   ]
  },
  {
   "cell_type": "code",
   "execution_count": 53,
   "metadata": {
    "scrolled": true
   },
   "outputs": [
    {
     "data": {
      "text/html": [
       "<div>\n",
       "<style scoped>\n",
       "    .dataframe tbody tr th:only-of-type {\n",
       "        vertical-align: middle;\n",
       "    }\n",
       "\n",
       "    .dataframe tbody tr th {\n",
       "        vertical-align: top;\n",
       "    }\n",
       "\n",
       "    .dataframe thead th {\n",
       "        text-align: right;\n",
       "    }\n",
       "</style>\n",
       "<table border=\"1\" class=\"dataframe\">\n",
       "  <thead>\n",
       "    <tr style=\"text-align: right;\">\n",
       "      <th></th>\n",
       "      <th>name</th>\n",
       "      <th>user</th>\n",
       "      <th>ar_d1</th>\n",
       "      <th>ar_d2</th>\n",
       "      <th>ar_d3</th>\n",
       "      <th>ar_d4</th>\n",
       "      <th>ar_d5</th>\n",
       "      <th>nr_d1</th>\n",
       "      <th>nr_d2</th>\n",
       "      <th>nr_d3</th>\n",
       "      <th>...</th>\n",
       "      <th>sa_d1</th>\n",
       "      <th>sa_d2</th>\n",
       "      <th>sa_d3</th>\n",
       "      <th>sa_d4</th>\n",
       "      <th>sa_d5</th>\n",
       "      <th>sh_d1</th>\n",
       "      <th>sh_d2</th>\n",
       "      <th>sh_d3</th>\n",
       "      <th>sh_d4</th>\n",
       "      <th>sh_d5</th>\n",
       "    </tr>\n",
       "  </thead>\n",
       "  <tbody>\n",
       "    <tr>\n",
       "      <th>0</th>\n",
       "      <td>Rhabarber-Streusel-Kuchen</td>\n",
       "      <td>mickyjenny</td>\n",
       "      <td>0.00</td>\n",
       "      <td>0.00</td>\n",
       "      <td>-0.01</td>\n",
       "      <td>0.00</td>\n",
       "      <td>0.00</td>\n",
       "      <td>0.0</td>\n",
       "      <td>0.0</td>\n",
       "      <td>1.0</td>\n",
       "      <td>...</td>\n",
       "      <td>14.0</td>\n",
       "      <td>7.0</td>\n",
       "      <td>1.0</td>\n",
       "      <td>12.0</td>\n",
       "      <td>11.0</td>\n",
       "      <td>0.0</td>\n",
       "      <td>0.0</td>\n",
       "      <td>0.0</td>\n",
       "      <td>0.0</td>\n",
       "      <td>0.0</td>\n",
       "    </tr>\n",
       "    <tr>\n",
       "      <th>1</th>\n",
       "      <td>Holunder - Balsamico - Essig</td>\n",
       "      <td>rosemarywitch</td>\n",
       "      <td>0.00</td>\n",
       "      <td>0.00</td>\n",
       "      <td>0.00</td>\n",
       "      <td>0.00</td>\n",
       "      <td>0.00</td>\n",
       "      <td>0.0</td>\n",
       "      <td>0.0</td>\n",
       "      <td>0.0</td>\n",
       "      <td>...</td>\n",
       "      <td>11.0</td>\n",
       "      <td>12.0</td>\n",
       "      <td>9.0</td>\n",
       "      <td>7.0</td>\n",
       "      <td>12.0</td>\n",
       "      <td>0.0</td>\n",
       "      <td>0.0</td>\n",
       "      <td>0.0</td>\n",
       "      <td>0.0</td>\n",
       "      <td>0.0</td>\n",
       "    </tr>\n",
       "    <tr>\n",
       "      <th>2</th>\n",
       "      <td>Apfelkuchen mit Streuseln</td>\n",
       "      <td>mimamutti</td>\n",
       "      <td>0.00</td>\n",
       "      <td>0.00</td>\n",
       "      <td>0.00</td>\n",
       "      <td>0.00</td>\n",
       "      <td>0.00</td>\n",
       "      <td>30.0</td>\n",
       "      <td>12.0</td>\n",
       "      <td>10.0</td>\n",
       "      <td>...</td>\n",
       "      <td>242.0</td>\n",
       "      <td>123.0</td>\n",
       "      <td>89.0</td>\n",
       "      <td>100.0</td>\n",
       "      <td>112.0</td>\n",
       "      <td>0.0</td>\n",
       "      <td>0.0</td>\n",
       "      <td>0.0</td>\n",
       "      <td>0.0</td>\n",
       "      <td>0.0</td>\n",
       "    </tr>\n",
       "    <tr>\n",
       "      <th>3</th>\n",
       "      <td>Salzige Dampfnudeln</td>\n",
       "      <td>t_segler</td>\n",
       "      <td>-0.02</td>\n",
       "      <td>0.00</td>\n",
       "      <td>0.01</td>\n",
       "      <td>0.00</td>\n",
       "      <td>0.01</td>\n",
       "      <td>6.0</td>\n",
       "      <td>5.0</td>\n",
       "      <td>6.0</td>\n",
       "      <td>...</td>\n",
       "      <td>28.0</td>\n",
       "      <td>24.0</td>\n",
       "      <td>27.0</td>\n",
       "      <td>25.0</td>\n",
       "      <td>26.0</td>\n",
       "      <td>0.0</td>\n",
       "      <td>0.0</td>\n",
       "      <td>0.0</td>\n",
       "      <td>0.0</td>\n",
       "      <td>0.0</td>\n",
       "    </tr>\n",
       "    <tr>\n",
       "      <th>4</th>\n",
       "      <td>Der beste Pizzateig</td>\n",
       "      <td>Jehuty</td>\n",
       "      <td>0.00</td>\n",
       "      <td>0.00</td>\n",
       "      <td>0.00</td>\n",
       "      <td>0.00</td>\n",
       "      <td>0.00</td>\n",
       "      <td>35.0</td>\n",
       "      <td>19.0</td>\n",
       "      <td>21.0</td>\n",
       "      <td>...</td>\n",
       "      <td>283.0</td>\n",
       "      <td>159.0</td>\n",
       "      <td>311.0</td>\n",
       "      <td>341.0</td>\n",
       "      <td>267.0</td>\n",
       "      <td>0.0</td>\n",
       "      <td>0.0</td>\n",
       "      <td>0.0</td>\n",
       "      <td>0.0</td>\n",
       "      <td>0.0</td>\n",
       "    </tr>\n",
       "    <tr>\n",
       "      <th>5</th>\n",
       "      <td>Grießbrei von Großmutter</td>\n",
       "      <td>Jona13</td>\n",
       "      <td>0.01</td>\n",
       "      <td>0.00</td>\n",
       "      <td>0.00</td>\n",
       "      <td>0.00</td>\n",
       "      <td>0.00</td>\n",
       "      <td>38.0</td>\n",
       "      <td>16.0</td>\n",
       "      <td>19.0</td>\n",
       "      <td>...</td>\n",
       "      <td>183.0</td>\n",
       "      <td>82.0</td>\n",
       "      <td>87.0</td>\n",
       "      <td>272.0</td>\n",
       "      <td>149.0</td>\n",
       "      <td>0.0</td>\n",
       "      <td>0.0</td>\n",
       "      <td>0.0</td>\n",
       "      <td>0.0</td>\n",
       "      <td>0.0</td>\n",
       "    </tr>\n",
       "    <tr>\n",
       "      <th>6</th>\n",
       "      <td>Friedas genialer Hefezopf</td>\n",
       "      <td>lone_bohne</td>\n",
       "      <td>0.01</td>\n",
       "      <td>0.00</td>\n",
       "      <td>0.00</td>\n",
       "      <td>0.00</td>\n",
       "      <td>0.00</td>\n",
       "      <td>32.0</td>\n",
       "      <td>16.0</td>\n",
       "      <td>13.0</td>\n",
       "      <td>...</td>\n",
       "      <td>121.0</td>\n",
       "      <td>89.0</td>\n",
       "      <td>121.0</td>\n",
       "      <td>191.0</td>\n",
       "      <td>180.0</td>\n",
       "      <td>0.0</td>\n",
       "      <td>0.0</td>\n",
       "      <td>0.0</td>\n",
       "      <td>0.0</td>\n",
       "      <td>0.0</td>\n",
       "    </tr>\n",
       "    <tr>\n",
       "      <th>7</th>\n",
       "      <td>Gourmet-Schoko-Pudding selbstgemacht, sahnig u...</td>\n",
       "      <td>Stift1</td>\n",
       "      <td>0.00</td>\n",
       "      <td>0.00</td>\n",
       "      <td>0.00</td>\n",
       "      <td>0.00</td>\n",
       "      <td>0.01</td>\n",
       "      <td>3.0</td>\n",
       "      <td>3.0</td>\n",
       "      <td>5.0</td>\n",
       "      <td>...</td>\n",
       "      <td>53.0</td>\n",
       "      <td>34.0</td>\n",
       "      <td>100.0</td>\n",
       "      <td>66.0</td>\n",
       "      <td>52.0</td>\n",
       "      <td>0.0</td>\n",
       "      <td>0.0</td>\n",
       "      <td>0.0</td>\n",
       "      <td>0.0</td>\n",
       "      <td>0.0</td>\n",
       "    </tr>\n",
       "    <tr>\n",
       "      <th>8</th>\n",
       "      <td>Hamburger und Hot Dog Buns</td>\n",
       "      <td>Küchenpunk</td>\n",
       "      <td>-0.02</td>\n",
       "      <td>0.01</td>\n",
       "      <td>-0.01</td>\n",
       "      <td>0.01</td>\n",
       "      <td>-0.01</td>\n",
       "      <td>3.0</td>\n",
       "      <td>3.0</td>\n",
       "      <td>5.0</td>\n",
       "      <td>...</td>\n",
       "      <td>36.0</td>\n",
       "      <td>46.0</td>\n",
       "      <td>54.0</td>\n",
       "      <td>73.0</td>\n",
       "      <td>51.0</td>\n",
       "      <td>0.0</td>\n",
       "      <td>0.0</td>\n",
       "      <td>0.0</td>\n",
       "      <td>0.0</td>\n",
       "      <td>0.0</td>\n",
       "    </tr>\n",
       "    <tr>\n",
       "      <th>9</th>\n",
       "      <td>Gänsekeulen aus dem Bratschlauch</td>\n",
       "      <td>Arsenase1</td>\n",
       "      <td>0.00</td>\n",
       "      <td>0.00</td>\n",
       "      <td>-0.04</td>\n",
       "      <td>0.00</td>\n",
       "      <td>0.01</td>\n",
       "      <td>0.0</td>\n",
       "      <td>10.0</td>\n",
       "      <td>22.0</td>\n",
       "      <td>...</td>\n",
       "      <td>61.0</td>\n",
       "      <td>148.0</td>\n",
       "      <td>172.0</td>\n",
       "      <td>25.0</td>\n",
       "      <td>21.0</td>\n",
       "      <td>0.0</td>\n",
       "      <td>0.0</td>\n",
       "      <td>0.0</td>\n",
       "      <td>0.0</td>\n",
       "      <td>0.0</td>\n",
       "    </tr>\n",
       "  </tbody>\n",
       "</table>\n",
       "<p>10 rows × 27 columns</p>\n",
       "</div>"
      ],
      "text/plain": [
       "                                                name           user  ar_d1  \\\n",
       "0                          Rhabarber-Streusel-Kuchen     mickyjenny   0.00   \n",
       "1                       Holunder - Balsamico - Essig  rosemarywitch   0.00   \n",
       "2                          Apfelkuchen mit Streuseln      mimamutti   0.00   \n",
       "3                                Salzige Dampfnudeln       t_segler  -0.02   \n",
       "4                                Der beste Pizzateig         Jehuty   0.00   \n",
       "5                           Grießbrei von Großmutter         Jona13   0.01   \n",
       "6                          Friedas genialer Hefezopf     lone_bohne   0.01   \n",
       "7  Gourmet-Schoko-Pudding selbstgemacht, sahnig u...         Stift1   0.00   \n",
       "8                         Hamburger und Hot Dog Buns     Küchenpunk  -0.02   \n",
       "9                   Gänsekeulen aus dem Bratschlauch      Arsenase1   0.00   \n",
       "\n",
       "   ar_d2  ar_d3  ar_d4  ar_d5  nr_d1  nr_d2  nr_d3  ...    sa_d1  sa_d2  \\\n",
       "0   0.00  -0.01   0.00   0.00    0.0    0.0    1.0  ...     14.0    7.0   \n",
       "1   0.00   0.00   0.00   0.00    0.0    0.0    0.0  ...     11.0   12.0   \n",
       "2   0.00   0.00   0.00   0.00   30.0   12.0   10.0  ...    242.0  123.0   \n",
       "3   0.00   0.01   0.00   0.01    6.0    5.0    6.0  ...     28.0   24.0   \n",
       "4   0.00   0.00   0.00   0.00   35.0   19.0   21.0  ...    283.0  159.0   \n",
       "5   0.00   0.00   0.00   0.00   38.0   16.0   19.0  ...    183.0   82.0   \n",
       "6   0.00   0.00   0.00   0.00   32.0   16.0   13.0  ...    121.0   89.0   \n",
       "7   0.00   0.00   0.00   0.01    3.0    3.0    5.0  ...     53.0   34.0   \n",
       "8   0.01  -0.01   0.01  -0.01    3.0    3.0    5.0  ...     36.0   46.0   \n",
       "9   0.00  -0.04   0.00   0.01    0.0   10.0   22.0  ...     61.0  148.0   \n",
       "\n",
       "   sa_d3  sa_d4  sa_d5  sh_d1  sh_d2  sh_d3  sh_d4  sh_d5  \n",
       "0    1.0   12.0   11.0    0.0    0.0    0.0    0.0    0.0  \n",
       "1    9.0    7.0   12.0    0.0    0.0    0.0    0.0    0.0  \n",
       "2   89.0  100.0  112.0    0.0    0.0    0.0    0.0    0.0  \n",
       "3   27.0   25.0   26.0    0.0    0.0    0.0    0.0    0.0  \n",
       "4  311.0  341.0  267.0    0.0    0.0    0.0    0.0    0.0  \n",
       "5   87.0  272.0  149.0    0.0    0.0    0.0    0.0    0.0  \n",
       "6  121.0  191.0  180.0    0.0    0.0    0.0    0.0    0.0  \n",
       "7  100.0   66.0   52.0    0.0    0.0    0.0    0.0    0.0  \n",
       "8   54.0   73.0   51.0    0.0    0.0    0.0    0.0    0.0  \n",
       "9  172.0   25.0   21.0    0.0    0.0    0.0    0.0    0.0  \n",
       "\n",
       "[10 rows x 27 columns]"
      ]
     },
     "execution_count": 53,
     "metadata": {},
     "output_type": "execute_result"
    }
   ],
   "source": [
    "deltadf = pd.DataFrame(chefdf[['name', 'user']])\n",
    "\n",
    "# average_rating\n",
    "deltadf['ar_d1'] = chefdf['avg_rating_11']-chefdf['avg_rating']\n",
    "deltadf['ar_d2'] = chefdf['avg_rating_12']-chefdf['avg_rating_11']\n",
    "deltadf['ar_d3'] = chefdf['avg_rating_01']-chefdf['avg_rating_12']\n",
    "deltadf['ar_d4'] = chefdf['avg_rating_02']-chefdf['avg_rating_01']\n",
    "deltadf['ar_d5'] = chefdf['avg_rating_03']-chefdf['avg_rating_02']\n",
    "\n",
    "# number_ratings\n",
    "deltadf['nr_d1'] = chefdf['number_ratings_11']-chefdf['number_ratings']\n",
    "deltadf['nr_d2'] = chefdf['number_ratings_12']-chefdf['number_ratings_11']\n",
    "deltadf['nr_d3'] = chefdf['number_ratings_01']-chefdf['number_ratings_12']\n",
    "deltadf['nr_d4'] = chefdf['number_ratings_02']-chefdf['number_ratings_01']\n",
    "deltadf['nr_d5'] = chefdf['number_ratings_03']-chefdf['number_ratings_02']\n",
    "\n",
    "# printed\n",
    "deltadf['p_d1'] = chefdf['printed_11']-chefdf['printed']\n",
    "deltadf['p_d2'] = chefdf['printed_12']-chefdf['printed_11']\n",
    "deltadf['p_d3'] = chefdf['printed_01']-chefdf['printed_12']\n",
    "deltadf['p_d4'] = chefdf['printed_02']-chefdf['printed_01']\n",
    "deltadf['p_d5'] = chefdf['printed_03']-chefdf['printed_02']\n",
    "\n",
    "# saved\n",
    "deltadf['sa_d1'] = chefdf['saved_11']-chefdf['saved']\n",
    "deltadf['sa_d2'] = chefdf['saved_12']-chefdf['saved_11']\n",
    "deltadf['sa_d3'] = chefdf['saved_01']-chefdf['saved_12']\n",
    "deltadf['sa_d4'] = chefdf['saved_02']-chefdf['saved_01']\n",
    "deltadf['sa_d5'] = chefdf['saved_03']-chefdf['saved_02']\n",
    "\n",
    "# shared\n",
    "deltadf['sh_d1'] = chefdf['shared_11']-chefdf['shared']\n",
    "deltadf['sh_d2'] = chefdf['shared_12']-chefdf['shared_11']\n",
    "deltadf['sh_d3'] = chefdf['shared_01']-chefdf['shared_12']\n",
    "deltadf['sh_d4'] = chefdf['shared_02']-chefdf['shared_01']\n",
    "deltadf['sh_d5'] = chefdf['shared_03']-chefdf['shared_02']\n",
    "\n",
    "deltadf.head(10)"
   ]
  },
  {
   "cell_type": "code",
   "execution_count": 54,
   "metadata": {},
   "outputs": [],
   "source": [
    "# Remove characters and redundant whitespaces\n",
    "for i, words in enumerate(chefdf['name']):\n",
    "    for char in ['\"','-','=','!','(',')','.','♥',',',':','~','„','“','/','–','&','+',';','*','☆']:\n",
    "        words = words.replace(char,' ')\n",
    "    words = words.replace('  ',' ')"
   ]
  },
  {
   "cell_type": "code",
   "execution_count": 55,
   "metadata": {},
   "outputs": [],
   "source": [
    "# Export CSV\n",
    "deltadf.to_csv('exports/trend_deltas_chefkoch.csv')"
   ]
  },
  {
   "cell_type": "markdown",
   "metadata": {},
   "source": [
    "### Recalculation of General Statistics (Exploratory Analysis)\n",
    "\n",
    "Considering the unregularities in the datasets, a corrected calculation of total recipes for this website needs to be performed (by removing duplicates):"
   ]
  },
  {
   "cell_type": "code",
   "execution_count": 57,
   "metadata": {},
   "outputs": [
    {
     "name": "stdout",
     "output_type": "stream",
     "text": [
      "<class 'pandas.core.frame.DataFrame'>\n",
      "Int64Index: 318291 entries, 0 to 319576\n",
      "Data columns (total 18 columns):\n",
      "avg_rating        222833 non-null object\n",
      "calories          318291 non-null object\n",
      "date              222833 non-null object\n",
      "difficulty        318291 non-null object\n",
      "ingredients       318291 non-null object\n",
      "name              318291 non-null object\n",
      "number_ratings    222833 non-null object\n",
      "preparation       318291 non-null object\n",
      "printed           222833 non-null float64\n",
      "saved             222833 non-null object\n",
      "shared            222833 non-null object\n",
      "subtitle          163773 non-null object\n",
      "time_cook         318291 non-null object\n",
      "time_rest         318291 non-null object\n",
      "time_work         318291 non-null object\n",
      "user              318291 non-null object\n",
      "user_activity     318291 non-null object\n",
      "user_date         318291 non-null object\n",
      "dtypes: float64(1), object(17)\n",
      "memory usage: 46.1+ MB\n"
     ]
    }
   ],
   "source": [
    "countdf = pd.DataFrame(chef03)\n",
    "countdf = countdf.drop_duplicates(subset=['name', 'user'])\n",
    "countdf.info()"
   ]
  },
  {
   "cell_type": "code",
   "execution_count": 58,
   "metadata": {},
   "outputs": [
    {
     "name": "stdout",
     "output_type": "stream",
     "text": [
      "<class 'pandas.core.frame.DataFrame'>\n",
      "Int64Index: 316953 entries, 0 to 318239\n",
      "Data columns (total 18 columns):\n",
      "avg_rating        221709 non-null object\n",
      "calories          316953 non-null object\n",
      "date              221709 non-null object\n",
      "difficulty        316953 non-null object\n",
      "ingredients       316953 non-null object\n",
      "name              316953 non-null object\n",
      "number_ratings    221709 non-null object\n",
      "preparation       316953 non-null object\n",
      "printed           221709 non-null float64\n",
      "saved             221709 non-null object\n",
      "shared            221709 non-null object\n",
      "subtitle          162879 non-null object\n",
      "time_cook         316953 non-null object\n",
      "time_rest         316953 non-null object\n",
      "time_work         316953 non-null object\n",
      "user              316953 non-null object\n",
      "user_activity     316953 non-null object\n",
      "user_date         316953 non-null object\n",
      "dtypes: float64(1), object(17)\n",
      "memory usage: 45.9+ MB\n"
     ]
    }
   ],
   "source": [
    "count1df = pd.DataFrame(chef02)\n",
    "count1df = count1df.drop_duplicates(subset=['name', 'user'])\n",
    "count1df.info()"
   ]
  },
  {
   "cell_type": "code",
   "execution_count": 59,
   "metadata": {},
   "outputs": [
    {
     "name": "stdout",
     "output_type": "stream",
     "text": [
      "<class 'pandas.core.frame.DataFrame'>\n",
      "Int64Index: 312488 entries, 0 to 313750\n",
      "Data columns (total 21 columns):\n",
      "avg_rating        216421 non-null object\n",
      "calories          312488 non-null object\n",
      "date              216421 non-null object\n",
      "day               216421 non-null float64\n",
      "difficulty        312488 non-null object\n",
      "ingredients       312488 non-null object\n",
      "month             216421 non-null float64\n",
      "name              312488 non-null object\n",
      "number_ratings    312488 non-null object\n",
      "preparation       312488 non-null object\n",
      "printed           312488 non-null object\n",
      "saved             312488 non-null object\n",
      "shared            312488 non-null object\n",
      "subtitle          160006 non-null object\n",
      "time_cook         312488 non-null object\n",
      "time_rest         312488 non-null object\n",
      "time_work         312488 non-null object\n",
      "user              312488 non-null object\n",
      "user_activity     312488 non-null object\n",
      "user_date         312488 non-null object\n",
      "year              216421 non-null float64\n",
      "dtypes: float64(3), object(18)\n",
      "memory usage: 52.5+ MB\n"
     ]
    }
   ],
   "source": [
    "count6df = pd.DataFrame(chef10)\n",
    "count6df = count6df.drop_duplicates(subset=['name', 'user'])\n",
    "count6df.info()"
   ]
  },
  {
   "cell_type": "code",
   "execution_count": 60,
   "metadata": {},
   "outputs": [
    {
     "name": "stdout",
     "output_type": "stream",
     "text": [
      "318291\n",
      "1338\n",
      "5803\n"
     ]
    }
   ],
   "source": [
    "# Recalculating the deltas for general statistics (exploratory analysis)\n",
    "# Recipe count\n",
    "print(len(countdf['name']))\n",
    "print(len(countdf['name'])-len(count1df['name']))\n",
    "print(len(countdf['name'])-len(count6df['name']))"
   ]
  },
  {
   "cell_type": "code",
   "execution_count": 61,
   "metadata": {},
   "outputs": [
    {
     "name": "stdout",
     "output_type": "stream",
     "text": [
      "80459\n",
      "390\n",
      "1699\n"
     ]
    }
   ],
   "source": [
    "# Distinct authors\n",
    "print(len(countdf['user'].unique()))\n",
    "print(len(countdf['user'].unique())-len(count1df['user'].unique()))\n",
    "print(len(countdf['user'].unique())-len(count6df['user'].unique()))"
   ]
  },
  {
   "cell_type": "code",
   "execution_count": 63,
   "metadata": {},
   "outputs": [
    {
     "name": "stdout",
     "output_type": "stream",
     "text": [
      "2553803.0\n",
      "19591.0\n",
      "130573.0\n"
     ]
    }
   ],
   "source": [
    "# Number of ratings\n",
    "print(pd.to_numeric(countdf['number_ratings']).sum())\n",
    "print(pd.to_numeric(countdf['number_ratings']).sum()-pd.to_numeric(count1df['number_ratings']).sum())\n",
    "print(pd.to_numeric(countdf['number_ratings']).sum()-pd.to_numeric(count6df['number_ratings']).sum())"
   ]
  },
  {
   "cell_type": "markdown",
   "metadata": {},
   "source": [
    "As we can see, there are slight changes in the number, but they are negligible."
   ]
  }
 ],
 "metadata": {
  "kernelspec": {
   "display_name": "Python 3",
   "language": "python",
   "name": "python3"
  },
  "language_info": {
   "codemirror_mode": {
    "name": "ipython",
    "version": 3
   },
   "file_extension": ".py",
   "mimetype": "text/x-python",
   "name": "python",
   "nbconvert_exporter": "python",
   "pygments_lexer": "ipython3",
   "version": "3.6.4"
  }
 },
 "nbformat": 4,
 "nbformat_minor": 2
}
